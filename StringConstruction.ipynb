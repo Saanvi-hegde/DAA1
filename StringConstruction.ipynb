{
  "nbformat": 4,
  "nbformat_minor": 0,
  "metadata": {
    "colab": {
      "provenance": [],
      "authorship_tag": "ABX9TyPqr1KtI9sCnfC9SpOxDNiJ"
    },
    "kernelspec": {
      "name": "python3",
      "display_name": "Python 3"
    },
    "language_info": {
      "name": "python"
    }
  },
  "cells": [
    {
      "cell_type": "code",
      "execution_count": 1,
      "metadata": {
        "colab": {
          "base_uri": "https://localhost:8080/"
        },
        "id": "mOyz4YjwyiMI",
        "outputId": "109a5b13-5187-445b-9563-c270ef99edbc"
      },
      "outputs": [
        {
          "output_type": "stream",
          "name": "stdout",
          "text": [
            "Enter number of strings: 2\n",
            "Enter the string: abcd\n",
            "Enter the string: abab\n",
            "4\n",
            "2\n"
          ]
        }
      ],
      "source": [
        "#string contructn\n",
        "def stringConstruction(s):\n",
        "    p_chars = set()  # To store characters already in p\n",
        "    cost = 0\n",
        "\n",
        "    for char in s:\n",
        "        if char not in p_chars:\n",
        "            p_chars.add(char)\n",
        "            cost += 1\n",
        "\n",
        "    return cost\n",
        "\n",
        "if __name__ == '__main__':\n",
        "    q = int(input(\"Enter number of strings: \").strip())\n",
        "    results = []\n",
        "\n",
        "    for _ in range(q):\n",
        "        s = input(\"Enter the string: \").strip()\n",
        "        result = stringConstruction(s)\n",
        "        results.append(result)\n",
        "\n",
        "    for res in results:\n",
        "        print(res)\n",
        "\n"
      ]
    }
  ]
}