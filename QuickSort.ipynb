{
  "nbformat": 4,
  "nbformat_minor": 0,
  "metadata": {
    "colab": {
      "provenance": [],
      "authorship_tag": "ABX9TyN8td0J1heXnZGyaYNGCayd"
    },
    "kernelspec": {
      "name": "python3",
      "display_name": "Python 3"
    },
    "language_info": {
      "name": "python"
    }
  },
  "cells": [
    {
      "cell_type": "code",
      "execution_count": 1,
      "metadata": {
        "colab": {
          "base_uri": "https://localhost:8080/"
        },
        "id": "f9r6AWVtu1IN",
        "outputId": "425a5b0f-49dc-4006-ad46-48fc8ca80294"
      },
      "outputs": [
        {
          "output_type": "stream",
          "name": "stdout",
          "text": [
            "5\n",
            "4 5 3 7 2\n",
            "3 2 4 5 7\n"
          ]
        }
      ],
      "source": [
        "def quickSort(arr):\n",
        "    pivot = arr[0]\n",
        "    left = []\n",
        "    equal = []\n",
        "    right = []\n",
        "    for num in arr:\n",
        "        if num < pivot:\n",
        "            left.append(num)\n",
        "        elif num == pivot:\n",
        "            equal.append(num)\n",
        "        else:\n",
        "            right.append(num)\n",
        "    return left + equal + right\n",
        "if __name__ == '__main__':\n",
        "    n = int(input().strip())\n",
        "    arr = list(map(int, input().strip().split()))\n",
        "    result = quickSort(arr)\n",
        "    print(\" \".join(map(str, result)))\n"
      ]
    }
  ]
}